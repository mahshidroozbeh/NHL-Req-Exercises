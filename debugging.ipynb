{
 "cells": [
  {
   "cell_type": "code",
   "execution_count": 2,
   "metadata": {
    "nbgrader": {
     "grade": false,
     "grade_id": "16dd0e54-1177-41f7-a262-2b4c8bf37c63",
     "locked": false,
     "points": 1,
     "schema_version": 3,
     "solution": false,
     "task": false
    }
   },
   "outputs": [],
   "source": [
    "import csv\n",
    "import numpy as np\n",
    "from typing import Set,Tuple, List\n",
    "import torch\n",
    "import torch.utils\n",
    "import torch.utils.data\n",
    "import torch.nn as nn\n",
    "import torchvision\n",
    "NoneType = type(None)\n",
    "import matplotlib.pyplot as plt\n",
    "from IPython.display import display, clear_output\n",
    "from PIL import Image\n",
    "import torchvision.transforms.functional as TF\n",
    "from torchvision.models import vgg11\n",
    "from torchvision.models import mobilenet_v2\n",
    "import torchvision.transforms as transforms\n",
    "import time\n",
    "import os\n",
    "import csv\n",
    "import unittest\n"
   ]
  },
  {
   "cell_type": "markdown",
   "metadata": {
    "nbgrader": {
     "grade": false,
     "grade_id": "cc882a7b-ee15-441c-8f29-7a88334928d4",
     "locked": true,
     "points": 1,
     "schema_version": 3,
     "solution": false,
     "task": false
    }
   },
   "source": [
    "<h1 id=\"exercise-1\"><strong>Exercise 1 Solution</strong></h1>\n"
   ]
  },
  {
   "cell_type": "markdown",
   "metadata": {},
   "source": [
    "## Problems Identified\n",
    "\n",
    "The problem described in the exercise arises from the nature of the **`Set`** data type in Python and how indexing is approached.\n",
    "\n",
    "1. **Reason for Incorrect Results**:\n",
    "    - Sets in Python are unordered collections of unique elements. This means that the elements in a set do not have a fixed order, and thus, they cannot be accessed by an index as we would in a list or an array.\n",
    "    - When the exercise attempts to access elements in a set using an index (like **`fruit_id`**), it will not work as expected because sets do not support indexing or slicing.\n",
    "2. **Solution**:\n",
    "    - To fix this issue, we need to convert the set to a data type that supports indexing. The most straightforward approach is to convert the set to a list.\n",
    "    - This conversion will order the elements in some consistent but arbitrary order, allowing us to use indexing. However, it's important to note that the order of elements in a set when converted to a list is not guaranteed to be the same every time, especially if the set elements change.\n",
    "  \n",
    "Here's a revised version of the function:"
   ]
  },
  {
   "cell_type": "code",
   "execution_count": 26,
   "metadata": {},
   "outputs": [],
   "source": [
    "def id_to_fruit(fruit_id: int, fruits: set) -> str:\n",
    "    \"\"\"\n",
    "    Fetches a fruit's name by index from an unordered set of fruit names.\n",
    "\n",
    "    Since sets do not support direct indexing due to their unordered nature, this function\n",
    "    first transforms the set into a list. This list conversion allows for ordered access\n",
    "    by indices. If the given index, fruit_id, falls outside the range of the newly created list,\n",
    "    the function will signal an error by raising an IndexError. This approach ensures that\n",
    "    users of the function are made aware of incorrect index usage immediately.\n",
    "\n",
    "    Parameters:\n",
    "    - fruit_id: Index intended to retrieve the corresponding fruit name.\n",
    "    - fruits: A collection of unique fruit names.\n",
    "\n",
    "    Returns:\n",
    "    - A string representing the name of the fruit associated with the provided index.\n",
    "\n",
    "    Raises:\n",
    "    - IndexError: Triggered if fruit_id does not correspond to a valid position within the list,\n",
    "                  which can occur if the index is negative or exceeds the collection's bounds.\n",
    "    \"\"\"\n",
    "    \n",
    "    # Transformation: Set to List for Index-based Access\n",
    "    fruits_list = list(fruits)\n",
    "    \n",
    "    print(\"Fruits list after transformation:\", fruits_list)\n",
    "    \n",
    "    # Validity Check: Ensuring the fruit_id is within the permissible range\n",
    "    if fruit_id < 0 or fruit_id >= len(fruits_list):\n",
    "        # Error Handling: Index out of range\n",
    "        raise IndexError(\"fruit_id is out of range\")\n",
    "    \n",
    "    # Successful Retrieval: Fetch and return the fruit name at the desired index\n",
    "    return fruits_list[fruit_id]\n"
   ]
  },
  {
   "cell_type": "code",
   "execution_count": 36,
   "metadata": {},
   "outputs": [
    {
     "name": "stdout",
     "output_type": "stream",
     "text": [
      "Fruits list after transformation: ['strawberry', 'kiwi', 'orange', 'melon', 'apple']\n",
      "Fruits list after transformation: ['strawberry', 'kiwi', 'orange', 'melon', 'apple']\n",
      "Fruits list after transformation: ['strawberry', 'kiwi', 'orange', 'melon', 'apple']\n"
     ]
    }
   ],
   "source": [
    "name1 = id_to_fruit(1, {\"apple\", \"orange\", \"melon\", \"kiwi\", \"strawberry\"})\n",
    "name3 = id_to_fruit(3, {\"apple\", \"orange\", \"melon\", \"kiwi\", \"strawberry\"})\n",
    "name4 = id_to_fruit(4, {\"apple\", \"orange\", \"melon\", \"kiwi\", \"strawberry\"})"
   ]
  },
  {
   "cell_type": "code",
   "execution_count": 40,
   "metadata": {},
   "outputs": [
    {
     "name": "stdout",
     "output_type": "stream",
     "text": [
      "Fruit at index 1: kiwi\n",
      "Fruit at index 3: melon\n",
      "Fruit at index 4: apple\n"
     ]
    }
   ],
   "source": [
    "# Print the results\n",
    "print(\"Fruit at index 1:\", name1)\n",
    "print(\"Fruit at index 3:\", name3)\n",
    "print(\"Fruit at index 4:\", name4)"
   ]
  },
  {
   "cell_type": "markdown",
   "metadata": {},
   "source": [
    "## Unit Test\n",
    "\n",
    "Here are some test cases to consider:\n",
    "\n",
    "1. **Test with a Valid Index**: Verify that the function returns the correct fruit name when provided with a valid index.\n",
    "2. **Test with an Index Out of Bounds**: Verify that the function raises a **`ValueError`** when provided with an index that is out of the range of the fruits list length.\n",
    "3. **Test with an Empty Set**: Verify how the function behaves when an empty set is passed.\n",
    "4. **Test Negative Index**: Since negative indices are not supported in the context of this function's design, ensure it raises a **`ValueError`**."
   ]
  },
  {
   "cell_type": "code",
   "execution_count": 38,
   "metadata": {},
   "outputs": [],
   "source": [
    "class TestIdToFruitFunction(unittest.TestCase):\n",
    "    # Test case to check if the function returns the correct fruit name for a valid index.\n",
    "    # This test relies on the conversion of a set to a list, which may not guarantee\n",
    "    # the same order across different executions or environments. Thus, the expected\n",
    "    # fruit might need adjustment depending on the order in which the set is converted to a list.\n",
    "    def test_valid_index(self):\n",
    "        fruits = {\"apple\", \"orange\", \"melon\", \"kiwi\", \"strawberry\"}\n",
    "        # Convert the set to a list and select the fruit at index 1 for the expected result.\n",
    "        expected_fruit = list(fruits)[1]  # Note: Order of elements in list conversion is arbitrary.\n",
    "        self.assertEqual(id_to_fruit(1, fruits), expected_fruit)\n",
    "\n",
    "    # Test case to verify that an IndexError is raised when an index outside the valid range is used.\n",
    "    # This ensures the function correctly handles requests for non-existent elements, reflecting\n",
    "    # proper error handling for out-of-bounds indices.\n",
    "    def test_index_out_of_bounds(self):\n",
    "        fruits = {\"apple\", \"orange\", \"melon\"}\n",
    "        # Expect an IndexError when attempting to access an index beyond the available items.\n",
    "        with self.assertRaises(IndexError):\n",
    "            id_to_fruit(3, fruits)\n",
    "\n",
    "    # Test case to ensure the function raises an IndexError when attempting to access an element\n",
    "    # in an empty set. This test verifies the function's robustness in handling edge cases where\n",
    "    # the input set contains no elements.\n",
    "    def test_empty_set(self):\n",
    "        fruits = set()\n",
    "        # An empty set should lead to an IndexError, as no indices are valid in this context.\n",
    "        with self.assertRaises(IndexError):\n",
    "            id_to_fruit(0, fruits)\n",
    "\n",
    "    # Test case to check the function's response to negative indices, which are not supported.\n",
    "    # This verifies that the function properly handles invalid input by raising an IndexError,\n",
    "    # aligning with Python's typical behavior for negative indexing in lists (which is not applicable here).\n",
    "    def test_negative_index(self):\n",
    "        fruits = {\"apple\", \"orange\", \"melon\"}\n",
    "        # Negative indices should trigger an IndexError, indicating invalid input.\n",
    "        with self.assertRaises(IndexError):\n",
    "            id_to_fruit(-1, fruits)\n"
   ]
  },
  {
   "cell_type": "code",
   "execution_count": 58,
   "metadata": {},
   "outputs": [
    {
     "name": "stderr",
     "output_type": "stream",
     "text": [
      "....\n",
      "----------------------------------------------------------------------\n",
      "Ran 4 tests in 0.006s\n",
      "\n",
      "OK\n"
     ]
    },
    {
     "name": "stdout",
     "output_type": "stream",
     "text": [
      "Fruits list after transformation: []\n",
      "Fruits list after transformation: ['orange', 'melon', 'apple']\n",
      "Fruits list after transformation: ['orange', 'melon', 'apple']\n",
      "Fruits list after transformation: ['strawberry', 'kiwi', 'orange', 'melon', 'apple']\n"
     ]
    },
    {
     "data": {
      "text/plain": [
       "<unittest.main.TestProgram at 0x7f9e0a4b6090>"
      ]
     },
     "execution_count": 58,
     "metadata": {},
     "output_type": "execute_result"
    }
   ],
   "source": [
    "unittest.main(argv=['', 'TestIdToFruitFunction'], exit=False)"
   ]
  },
  {
   "cell_type": "markdown",
   "metadata": {},
   "source": [
    "-----------------------"
   ]
  },
  {
   "cell_type": "markdown",
   "metadata": {
    "nbgrader": {
     "grade": false,
     "grade_id": "ae288313-4e91-4a31-8c2d-dc06c7b65a74",
     "locked": true,
     "points": 1,
     "schema_version": 3,
     "solution": false,
     "task": false
    }
   },
   "source": [
    "<h1 id=\"exercise-2\"><strong>Exercise 2 - Solution</strong></h1>\n"
   ]
  },
  {
   "cell_type": "markdown",
   "metadata": {},
   "source": [
    "Let's analyze the issues based on the given description and code:\n",
    "\n",
    "## Obvious Error\n",
    "\n",
    "The line **`coords[:, 0], coords[:, 1], coords[:, 2], coords[:, 3], = coords[:, 1], coords[:, 1], coords[:, 3], coords[:, 2]`** has an error in assignment. Specifically, both **`coords[:, 0]`** and **`coords[:, 2]`** (which represent **`x11`** and **`x12`** respectively) are assigned **`coords[:, 1]`** and **`coords[:, 3]`** values, but **`coords[:, 1]`** is assigned twice, meaning that **`y11`** and **`y12`** will end up with the same value after the swap, which is incorrect.\n",
    "\n",
    "## Fixing the Error\n",
    "\n",
    "The corrected line should ensure that x and y coordinates are swapped correctly. The original assignment mistakenly assigns the y11 value to both **`x11`** and **`x12`**. Instead, it should correctly assign **`y11`** to **`x11`** and **`y12`** to **`x12`**, and vice versa for the **`x`** to **`y`** assignments.\n",
    "Here's how the fixed code would look:"
   ]
  },
  {
   "cell_type": "code",
   "execution_count": 48,
   "metadata": {},
   "outputs": [],
   "source": [
    "def swap(coords: np.ndarray):\n",
    "    # Correctly flip x and y coordinates without altering the class id\n",
    "    coords[:, [0, 2]] = coords[:, [1, 3]]\n",
    "    coords[:, [1, 3]] = coords[:, [0, 2]].copy()\n",
    "    return coords\n"
   ]
  },
  {
   "cell_type": "markdown",
   "metadata": {},
   "source": [
    "However, the above fix still contains a logical mistake in the approach to swapping values because it immediately overwrites the original x values (**`coords[:, 0]`** and **`coords[:, 2]`**) with y values before they can be used to update the y positions. This results in both sets of coordinates being the same.\n",
    "\n",
    "The correct and efficient way to swap the x and y coordinates without losing the original values would involve the use of a temporary variable or performing the swap in a manner that doesn't immediately overwrite the original values. Here is a corrected approach:"
   ]
  },
  {
   "cell_type": "code",
   "execution_count": 69,
   "metadata": {},
   "outputs": [],
   "source": [
    "def swap(coords: np.ndarray):\n",
    "    \"\"\"\n",
    "    Flips the x and y coordinates in the coords array.\n",
    "    \n",
    "    :param coords: A numpy array of bounding box coordinates.\n",
    "    \"\"\"\n",
    "    # Temporarily store x coordinates\n",
    "    temp_x = coords[:, [0, 2]].copy()\n",
    "    # Swap x11 with y11 and x12 with y12\n",
    "    coords[:, [0, 2]] = coords[:, [1, 3]]\n",
    "    coords[:, [1, 3]] = temp_x\n",
    "    return coords\n"
   ]
  },
  {
   "cell_type": "code",
   "execution_count": 70,
   "metadata": {},
   "outputs": [
    {
     "name": "stdout",
     "output_type": "stream",
     "text": [
      "Original Coordinates:\n",
      "[[10  5 15  6  0]\n",
      " [11  3 13  6  0]\n",
      " [ 5  3 13  6  1]\n",
      " [ 4  4 13  6  1]\n",
      " [ 6  5 13 16  1]]\n",
      "\n",
      "Swapped Coordinates:\n",
      "[[ 5 10  6 15  0]\n",
      " [ 3 11  6 13  0]\n",
      " [ 3  5  6 13  1]\n",
      " [ 4  4  6 13  1]\n",
      " [ 5  6 16 13  1]]\n"
     ]
    }
   ],
   "source": [
    "# Sample input coordinates\n",
    "coords = np.array([[10, 5, 15, 6, 0],\n",
    "                   [11, 3, 13, 6, 0],\n",
    "                   [5, 3, 13, 6, 1],\n",
    "                   [4, 4, 13, 6, 1],\n",
    "                   [6, 5, 13, 16, 1]])\n",
    "\n",
    "print(\"Original Coordinates:\")\n",
    "print(coords)\n",
    "\n",
    "# Run the swap function\n",
    "swapped_coords = swap(coords.copy())  # Use copy to preserve the original for comparison\n",
    "\n",
    "print(\"\\nSwapped Coordinates:\")\n",
    "print(swapped_coords)\n"
   ]
  },
  {
   "cell_type": "markdown",
   "metadata": {},
   "source": [
    "## Unit Test\n",
    "\n",
    "- **Setting up the Test**: The **`TestSwapFunction`** class inherits from **`unittest.TestCase`**, providing a framework for writing the test.\n",
    "- **Test Method**: The **`test_swap`** method creates an **`input_coords`** array representing bounding boxes, where each row contains **`[x11, y11, x12, y12, classid]`**. It defines **`expected_output`** with the x and y coordinates swapped accordingly.\n",
    "- **Assertion**: **`np.testing.assert_array_equal`** is used to assert that the actual output from the **`swap`** function matches the expected output. This method is useful for comparing numpy arrays."
   ]
  },
  {
   "cell_type": "code",
   "execution_count": 71,
   "metadata": {},
   "outputs": [],
   "source": [
    "class TestSwapFunction(unittest.TestCase):\n",
    "    def test_swap(self):\n",
    "        # Define a sample array of bounding box coordinates\n",
    "        input_coords = np.array([\n",
    "            [10, 5, 15, 6, 0],\n",
    "            [11, 3, 13, 6, 0],\n",
    "            [5, 3, 13, 6, 1],\n",
    "            [4, 4, 13, 6, 1],\n",
    "            [6, 5, 13, 16, 1]\n",
    "        ])\n",
    "        # Expected output after swapping\n",
    "        expected_output = np.array([\n",
    "            [5, 10, 6, 15, 0],\n",
    "            [3, 11, 6, 13, 0],\n",
    "            [3, 5, 6, 13, 1],\n",
    "            [4, 4, 6, 13, 1],\n",
    "            [5, 6, 16, 13, 1]\n",
    "        ])\n",
    "        \n",
    "        # Run the swap function\n",
    "        output_coords = swap(input_coords.copy())  # Use copy to avoid modifying the original during the test\n",
    "        \n",
    "        # Verify that the output matches the expected output\n",
    "        np.testing.assert_array_equal(output_coords, expected_output)\n"
   ]
  },
  {
   "cell_type": "code",
   "execution_count": 72,
   "metadata": {},
   "outputs": [
    {
     "name": "stderr",
     "output_type": "stream",
     "text": [
      ".\n",
      "----------------------------------------------------------------------\n",
      "Ran 1 test in 0.002s\n",
      "\n",
      "OK\n"
     ]
    },
    {
     "data": {
      "text/plain": [
       "<unittest.main.TestProgram at 0x7f9e0a27e490>"
      ]
     },
     "execution_count": 72,
     "metadata": {},
     "output_type": "execute_result"
    }
   ],
   "source": [
    "unittest.main(argv=['', 'TestSwapFunction'], exit=False)\n"
   ]
  },
  {
   "cell_type": "markdown",
   "metadata": {},
   "source": [
    "--------------"
   ]
  },
  {
   "cell_type": "markdown",
   "metadata": {
    "nbgrader": {
     "grade": false,
     "grade_id": "a1f01da3-8770-45ca-8d36-92c35558dd17",
     "locked": true,
     "points": 1,
     "schema_version": 3,
     "solution": false,
     "task": false
    }
   },
   "source": [
    "<h1 id=\"exercise-3\"><strong>Exercise 3 - Solution</strong></h1>\n"
   ]
  },
  {
   "cell_type": "markdown",
   "metadata": {},
   "source": [
    "## Issues\n",
    "\n",
    "1. **Data Loading and Conversion Issue**:\n",
    "    - When loading and parsing the CSV data, the rows are appended to the **`results`** list as strings. The **`np.stack(results)`** call then creates a NumPy array of strings, not floats, which is not suitable for plotting numerical data. This can lead to incorrect plotting behavior because the plot function expects numerical values for both axes.\n",
    "2. **Incorrect Axes Assignment**:\n",
    "    - The plotting command **`plt.plot(results[:, 1], results[:, 0])`** plots recall on the x-axis and precision on the y-axis, which is the reverse of the expected behavior described in the docstring. For a precision-recall curve, precision should be on the x-axis, and recall should be on the y-axis.\n",
    "\n",
    "## How to Fix These Issues\n",
    "\n",
    "1. **Correct Data Conversion**:\n",
    "    - Convert the loaded CSV rows to floats before appending them to the **`results`** list or immediately after loading. This ensures that the plotting functions receive the correct numerical data types.\n",
    "2. **Fix Axes Assignment**:\n",
    "    - Swap the indices in the **`plt.plot`** function to correctly place precision on the x-axis and recall on the y-axis.\n",
    "\n",
    "Here is the corrected version of the **`plot_data`** method:"
   ]
  },
  {
   "cell_type": "code",
   "execution_count": 73,
   "metadata": {},
   "outputs": [],
   "source": [
    "def plot_data(csv_file_path: str):\n",
    "    \"\"\"\n",
    "    Plots a precision-recall curve from data stored in a CSV file.\n",
    "\n",
    "    The function reads the CSV file specified by `csv_file_path`, where each row contains\n",
    "    precision and recall values. It then plots these values with precision on the x-axis\n",
    "    and recall on the y-axis.\n",
    "\n",
    "    Parameters:\n",
    "    - csv_file_path: Path to the CSV file containing precision and recall data.\n",
    "\n",
    "    The CSV file should have a header row with titles 'precision' and 'recall', followed by rows of corresponding values.\n",
    "    \"\"\"\n",
    "    \n",
    "    # Initialize an empty list to store the read data\n",
    "    results = []\n",
    "    \n",
    "    # Open the CSV file for reading\n",
    "    with open(csv_file_path) as result_csv:\n",
    "        # Create a CSV reader object to parse the file\n",
    "        csv_reader = csv.reader(result_csv, delimiter=',')\n",
    "        next(csv_reader)  # Skip the header row to start reading data rows\n",
    "        \n",
    "        # Loop through each row in the CSV file\n",
    "        for row in csv_reader:\n",
    "            # Convert string representations of precision and recall to float and append to results list\n",
    "            results.append([float(row[0]), float(row[1])])\n",
    "    \n",
    "    # Convert the list of results into a NumPy array for easier data manipulation and plotting\n",
    "    results = np.array(results)\n",
    "    \n",
    "    # Plotting the precision-recall curve\n",
    "    # results[:, 0] accesses all precision values, and results[:, 1] accesses all recall values\n",
    "    plt.plot(results[:, 0], results[:, 1], marker='o', linestyle='-', color='b')  # Added markers for clarity\n",
    "    \n",
    "    # Set the limits for x and y axes to ensure the plot is nicely framed\n",
    "    plt.ylim([-0.05, 1.05])\n",
    "    plt.xlim([-0.05, 1.05])\n",
    "    \n",
    "    # Labeling the axes and setting a title for the plot for better readability\n",
    "    plt.xlabel('Precision')\n",
    "    plt.ylabel('Recall')\n",
    "    plt.title('Precision-Recall Curve')\n",
    "    \n",
    "    # Display the plot\n",
    "    plt.show()\n"
   ]
  },
  {
   "cell_type": "code",
   "execution_count": 74,
   "metadata": {},
   "outputs": [
    {
     "data": {
      "image/png": "[encoded data removed]",
      "text/plain": [
       "<Figure size 640x480 with 1 Axes>"
      ]
     },
     "metadata": {},
     "output_type": "display_data"
    }
   ],
   "source": [
    "f = open(\"data_file.csv\", \"w\")\n",
    "w = csv.writer(f)\n",
    "_ = w.writerow([\"precision\", \"recall\"])\n",
    "w.writerows([[0.013,0.951],\n",
    "             [0.376,0.851],\n",
    "             [0.441,0.839],\n",
    "             [0.570,0.758],\n",
    "             [0.635,0.674],\n",
    "             [0.721,0.604],\n",
    "             [0.837,0.531],\n",
    "             [0.860,0.453],\n",
    "             [0.962,0.348],\n",
    "             [0.982,0.273],\n",
    "             [1.0,0.0]])\n",
    "f.close()\n",
    "plot_data('data_file.csv')"
   ]
  },
  {
   "cell_type": "markdown",
   "metadata": {},
   "source": [
    "## Unit Test\n",
    "\n",
    "- **setUp Method**: Prepares the testing environment by creating a sample CSV file with predefined precision and recall data. This setup mimics the input that the **`plot_data`** function expects.\n",
    "- **test_plot_data Method**: Executes the core testing logic by calling the **`plot_data`** function with the path to the sample CSV file. The test focuses on the function's ability to process this file without errors, as actual plot visualization cannot be automatically verified in a unit test.\n",
    "- **tearDown Method**: Cleans up after each test by deleting the sample CSV file, ensuring a clean state for any subsequent tests.\n",
    "- **Running the Test**: The special invocation **`unittest.main(argv=[''], exit=False)`** allows the unit test to run within a Jupyter Notebook without causing the notebook to exit upon completion."
   ]
  },
  {
   "cell_type": "code",
   "execution_count": 77,
   "metadata": {},
   "outputs": [],
   "source": [
    "class TestPlotDataFunction(unittest.TestCase):\n",
    "    \"\"\"\n",
    "    A unit test class for the plot_data function to ensure it properly processes data\n",
    "    from a CSV file and attempts to plot a precision-recall curve.\n",
    "    \"\"\"\n",
    "    \n",
    "    def setUp(self):\n",
    "        \"\"\"\n",
    "        Set up the environment before each test.\n",
    "\n",
    "        This method generates a sample CSV file with precision and recall data that\n",
    "        the plot_data function will read during testing.\n",
    "        \"\"\"\n",
    "        # Define sample data to write to the CSV\n",
    "        self.data = [\n",
    "            [\"precision\", \"recall\"],  # Header\n",
    "            [0.013, 0.951],\n",
    "            [0.376, 0.851],\n",
    "            # Additional data rows can be added here\n",
    "        ]\n",
    "        self.csv_file_path = \"test_data.csv\"\n",
    "        \n",
    "        # Write the sample data to a CSV file\n",
    "        with open(self.csv_file_path, 'w', newline='') as file:\n",
    "            writer = csv.writer(file)\n",
    "            writer.writerows(self.data)\n",
    "    \n",
    "    def test_plot_data(self):\n",
    "        \"\"\"\n",
    "        Tests the plot_data function's ability to read from a CSV file and process the data.\n",
    "\n",
    "        This test verifies that the function successfully reads the input data and\n",
    "        formats it for plotting. Due to the complexity of validating visual output in\n",
    "        unit tests, this test focuses on the data handling aspect.\n",
    "        \"\"\"\n",
    "        # Directly call the plot_data function. Since the plotting output can't be easily\n",
    "        # tested in a unit test, this test assumes success if no errors are thrown.\n",
    "        # In practice, visual inspection would be required to confirm plot correctness.\n",
    "        plot_data(self.csv_file_path)\n",
    "        \n",
    "        # If necessary, additional checks on the data processed by plot_data can be added here,\n",
    "        # such as mocking plt.plot and verifying it is called with expected arguments.\n",
    "    \n",
    "    def tearDown(self):\n",
    "        \"\"\"\n",
    "        Clean up the environment after each test.\n",
    "\n",
    "        This method removes the sample CSV file generated during setUp to ensure\n",
    "        the test environment is clean for subsequent tests.\n",
    "        \"\"\"\n",
    "        # Remove the temporary CSV file\n",
    "        os.remove(self.csv_file_path)\n"
   ]
  },
  {
   "cell_type": "code",
   "execution_count": 78,
   "metadata": {},
   "outputs": [
    {
     "data": {
      "image/png": "[encoded data removed]",
      "text/plain": [
       "<Figure size 640x480 with 1 Axes>"
      ]
     },
     "metadata": {},
     "output_type": "display_data"
    },
    {
     "name": "stderr",
     "output_type": "stream",
     "text": [
      ".\n",
      "----------------------------------------------------------------------\n",
      "Ran 1 test in 0.180s\n",
      "\n",
      "OK\n"
     ]
    }
   ],
   "source": [
    "# Running the unit test\n",
    "if __name__ == '__main__':\n",
    "    unittest.main(argv=['', 'TestPlotDataFunction'], exit=False)"
   ]
  },
  {
   "cell_type": "markdown",
   "metadata": {},
   "source": [
    "----------------"
   ]
  },
  {
   "cell_type": "markdown",
   "metadata": {
    "nbgrader": {
     "grade": false,
     "grade_id": "eabb4be5-9c19-44d2-a468-21d8adb038b2",
     "locked": true,
     "points": 1,
     "schema_version": 3,
     "solution": false,
     "task": false
    }
   },
   "source": [
    "<h1 id=\"exercise-4\"><strong>Exercise 4 Solution</strong></h1>\n"
   ]
  },
  {
   "cell_type": "markdown",
   "metadata": {},
   "source": [
    "## Bugs\n",
    "\n",
    "### Structural Bug: Batch Size Mismatch\n",
    "\n",
    "1. **Description**: When the batch size is changed from 32 to 64, an error message indicates a size mismatch between target and input sizes during training. This error typically occurs in the lines where loss functions are computed, specifically due to mismatched dimensions between the discriminator's output and the expected labels size.\n",
    "    \n",
    "    **Cause**: The discriminator is designed to process a concatenated array of real and generated samples, effectively doubling the batch size for its input. However, the labels (real_samples_labels and generated_samples_labels) are not adjusted to account for this concatenated input size, leading to a mismatch.\n",
    "    \n",
    "    **Solution**: Ensure that the label tensors (**`real_samples_labels`** and **`generated_samples_labels`**) reflect the correct size, especially after concatenating real and generated samples. The size should match the total number of samples fed into the discriminator for each training iteration.\n",
    "    \n",
    "\n",
    "### Cosmetic Bug: Image Display\n",
    "\n",
    "1. **Description**: The cosmetic bug likely relates to the plotting and display of generated images during training.\n",
    "    \n",
    "    **Potential Issue**: The display of generated images might not be updating as expected within the training loop. If using Jupyter notebooks or a similar interactive environment, the intended behavior might be to clear the previous plot and display a new one at specified intervals (e.g., at the end of each epoch).\n",
    "    \n",
    "    **Solution**: Use **`clear_output(wait=True)`** from IPython.display to clear the previous output (including plotted images) before displaying new images. This ensures that only the latest set of generated images is shown, making the output more concise and relevant.\n",
    "    \n",
    "\n",
    "### Corrected Code Snippet\n",
    "\n",
    "Here's how the structural and cosmetic fixes can be integrated into the **`train_gan`** function:"
   ]
  },
  {
   "cell_type": "code",
   "execution_count": 79,
   "metadata": {},
   "outputs": [],
   "source": [
    "# Unchanged\n",
    "\n",
    "class Generator(nn.Module):\n",
    "    \"\"\"\n",
    "    Generator class for the GAN\n",
    "    \"\"\"\n",
    "\n",
    "    def __init__(self):\n",
    "        super().__init__()\n",
    "        self.model = nn.Sequential(\n",
    "            nn.Linear(100, 256),\n",
    "            nn.ReLU(),\n",
    "            nn.Linear(256, 512),\n",
    "            nn.ReLU(),\n",
    "            nn.Linear(512, 1024),\n",
    "            nn.ReLU(),\n",
    "            nn.Linear(1024, 784),\n",
    "            nn.Tanh(),\n",
    "        )\n",
    "\n",
    "    def forward(self, x):\n",
    "        output = self.model(x)\n",
    "        output = output.view(x.size(0), 1, 28, 28)\n",
    "        return output"
   ]
  },
  {
   "cell_type": "code",
   "execution_count": 80,
   "metadata": {},
   "outputs": [],
   "source": [
    "# Unchanged\n",
    "\n",
    "class Discriminator(nn.Module):\n",
    "    \"\"\"\n",
    "    Discriminator class for the GAN\n",
    "    \"\"\"\n",
    "    def __init__(self):\n",
    "        super().__init__()\n",
    "        self.model = nn.Sequential(\n",
    "            nn.Linear(784, 1024),\n",
    "            nn.ReLU(),\n",
    "            nn.Dropout(0.3),\n",
    "            nn.Linear(1024, 512),\n",
    "            nn.ReLU(),\n",
    "            nn.Dropout(0.3),\n",
    "            nn.Linear(512, 256),\n",
    "            nn.ReLU(),\n",
    "            nn.Dropout(0.3),\n",
    "            nn.Linear(256, 1),\n",
    "            nn.Sigmoid(),\n",
    "        )\n",
    "\n",
    "    def forward(self, x):\n",
    "        x = x.view(x.size(0), 784)\n",
    "        output = self.model(x)\n",
    "        return output"
   ]
  },
  {
   "cell_type": "code",
   "execution_count": 81,
   "metadata": {},
   "outputs": [],
   "source": [
    "def train_gan(batch_size: int = 32, num_epochs: int = 100, device: str = \"cuda:0\" if torch.cuda.is_available() else \"cpu\"):\n",
    "\n",
    "    # Add/adjust code.\n",
    "\n",
    "    transform = transforms.Compose([transforms.ToTensor(), transforms.Normalize((0.5,), (0.5,))])\n",
    "\n",
    "    try:\n",
    "        train_set = torchvision.datasets.MNIST(root=\".\", train=True, download=True, transform=transform)\n",
    "    except:\n",
    "        print(\"Failed to download MNIST, retrying with different URL\")\n",
    "        # see: https://github.com/pytorch/vision/blob/master/torchvision/datasets/mnist.py\n",
    "        torchvision.datasets.MNIST.resources = [\n",
    "            ('https://ossci-datasets.s3.amazonaws.com/mnist/train-images-idx3-ubyte.gz',\n",
    "             'f68b3c2dcbeaaa9fbdd348bbdeb94873'),\n",
    "            ('https://ossci-datasets.s3.amazonaws.com/mnist/train-labels-idx1-ubyte.gz',\n",
    "             'd53e105ee54ea40749a09fcbcd1e9432'),\n",
    "            ('https://ossci-datasets.s3.amazonaws.com/mnist/t10k-images-idx3-ubyte.gz',\n",
    "             '9fb629c4189551a2d022fa330f9573f3'),\n",
    "            ('https://ossci-datasets.s3.amazonaws.com/mnist/t10k-labels-idx1-ubyte.gz',\n",
    "             'ec29112dd5afa0611ce80d1b7f02629c')\n",
    "        ]\n",
    "        train_set = torchvision.datasets.MNIST(root=\".\", train=True, download=True, transform=transform)\n",
    "\n",
    "    train_loader = torch.utils.data.DataLoader(train_set, batch_size=batch_size, shuffle=True)\n",
    "\n",
    "    # example data\n",
    "    real_samples, mnist_labels = next(iter(train_loader))\n",
    "\n",
    "    fig = plt.figure()\n",
    "    for i in range(16):\n",
    "        sub = fig.add_subplot(4, 4, 1 + i)\n",
    "        sub.imshow(real_samples[i].reshape(28, 28), cmap=\"gray_r\")\n",
    "        sub.axis('off')\n",
    "\n",
    "    fig.tight_layout()\n",
    "    fig.suptitle(\"Real images\")\n",
    "    display(fig)\n",
    "\n",
    "    time.sleep(5)\n",
    "\n",
    "    # Set up training\n",
    "    discriminator = Discriminator().to(device)\n",
    "    generator = Generator().to(device)\n",
    "    lr = 0.0001\n",
    "    loss_function = nn.BCELoss()\n",
    "    optimizer_discriminator = torch.optim.Adam(discriminator.parameters(), lr=lr)\n",
    "    optimizer_generator = torch.optim.Adam(generator.parameters(), lr=lr)\n",
    "\n",
    "    \n",
    "    # train - Loop over the dataset multiple times, each loop is an epoch.\n",
    "    for epoch in range(num_epochs):\n",
    "        # Enumerate over the data loader to get batches of real images and labels.\n",
    "        for n, (real_samples, mnist_labels) in enumerate(train_loader):\n",
    "            # Dynamic adjustment for the batch size, particularly for the last batch that may be smaller.\n",
    "            current_batch_size = real_samples.size(0)\n",
    "    \n",
    "            # Move the real samples to the specified device (GPU or CPU).\n",
    "            real_samples = real_samples.to(device=device)\n",
    "            # Create labels for real samples (1s) with the correct batch size.\n",
    "            real_samples_labels = torch.ones((current_batch_size, 1), device=device)\n",
    "            \n",
    "            # Generate latent space samples (random noise) for the generator.\n",
    "            latent_space_samples = torch.randn((current_batch_size, 100), device=device)\n",
    "            # Generate fake images from the latent space samples.\n",
    "            generated_samples = generator(latent_space_samples)\n",
    "            # Create labels for generated samples (0s) to match the batch size.\n",
    "            generated_samples_labels = torch.zeros((current_batch_size, 1), device=device)\n",
    "    \n",
    "            # Concatenate the real images with the generated images to form a single batch.\n",
    "            all_samples = torch.cat((real_samples, generated_samples), dim=0)\n",
    "            # Similarly, concatenate the labels for real and generated images.\n",
    "            all_samples_labels = torch.cat((real_samples_labels, generated_samples_labels), dim=0)\n",
    "    \n",
    "            # Zero the gradients of the discriminator before the forward pass.\n",
    "            discriminator.zero_grad()\n",
    "            # Forward pass the concatenated images through the discriminator.\n",
    "            output_discriminator = discriminator(all_samples)\n",
    "            # Calculate the loss for the discriminator based on its output.\n",
    "            loss_discriminator = loss_function(output_discriminator, all_samples_labels)\n",
    "            # Backpropagate the loss for the discriminator and update its weights.\n",
    "            loss_discriminator.backward()\n",
    "            optimizer_discriminator.step()\n",
    "    \n",
    "            # Prepare new latent space samples for generating images to train the generator.\n",
    "            latent_space_samples = torch.randn((current_batch_size, 100), device=device)\n",
    "    \n",
    "            # Zero the gradients of the generator before the forward pass.\n",
    "            generator.zero_grad()\n",
    "            # Generate new images to be used for training the generator.\n",
    "            generated_samples = generator(latent_space_samples)\n",
    "            # Pass the generated images through the discriminator to get the classification.\n",
    "            output_discriminator_generated = discriminator(generated_samples)\n",
    "            # Calculate the loss for the generator based on the discriminator's output.\n",
    "            loss_generator = loss_function(output_discriminator_generated, real_samples_labels)\n",
    "            # Backpropagate the loss for the generator and update its weights.\n",
    "            loss_generator.backward()\n",
    "            optimizer_generator.step()\n",
    "    \n",
    "            # Correctly clear and display the generated images\n",
    "            if n == len(train_loader) - 1:  # Updated condition to check if it's the last batch in the epoch\n",
    "                name = f\"Generate images\\n Epoch: {epoch} Loss D.: {loss_discriminator:.2f} Loss G.: {loss_generator:.2f}\"\n",
    "                generated_samples = generated_samples.detach().cpu().numpy()\n",
    "                fig = plt.figure()\n",
    "                for i in range(16):\n",
    "                    sub = fig.add_subplot(4, 4, 1 + i)\n",
    "                    sub.imshow(generated_samples[i].reshape(28, 28), cmap=\"gray_r\")\n",
    "                    sub.axis('off')\n",
    "                fig.suptitle(name)\n",
    "                fig.tight_layout()\n",
    "                clear_output(wait=False)\n",
    "                display(fig)"
   ]
  },
  {
   "cell_type": "code",
   "execution_count": null,
   "metadata": {},
   "outputs": [
    {
     "data": {
      "image/png": "[encoded data removed]",
      "text/plain": [
       "<Figure size 640x480 with 16 Axes>"
      ]
     },
     "metadata": {},
     "output_type": "display_data"
    }
   ],
   "source": [
    "train_gan(batch_size=64, num_epochs=100)"
   ]
  },
  {
   "cell_type": "markdown",
   "metadata": {},
   "source": [
    "# Unit Test\n",
    "\n",
    "Creating a unit test for the **`Generator`** and **`Discriminator`** classes of a GAN involves verifying that these models perform as expected under controlled conditions. This includes checking that the models accept input tensors of the correct shape and produce outputs of the expected shape. Since these classes are components of a GAN architecture, the tests will focus on the input and output dimensions, ensuring they align with the specifications.\n",
    "\n",
    "- **Generator Test**: This test checks if the **`Generator`** class, when given a batch of random noise vectors (size **`[batch_size, noise_dimension]`**), produces a batch of images with the expected dimensions (**`[batch_size, channels, height, width]`**). In this case, the expected output dimension for MNIST generated images is **`[16, 1, 28, 28]`**.\n",
    "- **Discriminator Test**: This test verifies that the **`Discriminator`** class, when presented with a batch of images (fake or real), outputs a batch of predictions with the correct shape (**`[batch_size, 1]`**). Each prediction is expected to represent the probability that a given image is real."
   ]
  },
  {
   "cell_type": "code",
   "execution_count": 21,
   "metadata": {},
   "outputs": [],
   "source": [
    "class TestGANComponents(unittest.TestCase):\n",
    "    \"\"\"Unit tests for the GAN's Generator and Discriminator components.\"\"\"\n",
    "\n",
    "    def test_generator_output_shape(self):\n",
    "        \"\"\"Test that the Generator produces output of the expected shape.\"\"\"\n",
    "        # Instantiate the generator\n",
    "        generator = Generator()\n",
    "        \n",
    "        # Generate random noise as input to the generator\n",
    "        random_noise = torch.randn(16, 100)  # Batch size of 16, noise dimension of 100\n",
    "        \n",
    "        # Generate images\n",
    "        generated_images = generator(random_noise)\n",
    "        \n",
    "        # Check the shape of the generated images\n",
    "        expected_shape = (16, 1, 28, 28)  # Expected shape (B, C, H, W)\n",
    "        self.assertEqual(generated_images.shape, expected_shape, \"Generator output shape is incorrect.\")\n",
    "\n",
    "    def test_discriminator_output_shape(self):\n",
    "        \"\"\"Test that the Discriminator produces output of the expected shape.\"\"\"\n",
    "        # Instantiate the discriminator\n",
    "        discriminator = Discriminator()\n",
    "        \n",
    "        # Generate a batch of fake images (assuming square images for simplicity)\n",
    "        fake_images = torch.randn(16, 1, 28, 28)  # Batch size of 16, 1 channel, 28x28 images\n",
    "        \n",
    "        # Pass the fake images through the discriminator\n",
    "        predictions = discriminator(fake_images)\n",
    "        \n",
    "        # Check the shape of the discriminator output\n",
    "        expected_shape = (16, 1)  # Expected shape (B, Out)\n",
    "        self.assertEqual(predictions.shape, expected_shape, \"Discriminator output shape is incorrect.\")\n"
   ]
  },
  {
   "cell_type": "code",
   "execution_count": 27,
   "metadata": {},
   "outputs": [
    {
     "name": "stderr",
     "output_type": "stream",
     "text": [
      "..\n",
      "----------------------------------------------------------------------\n",
      "Ran 2 tests in 0.043s\n",
      "\n",
      "OK\n"
     ]
    }
   ],
   "source": [
    "# This enables running the tests from the command line\n",
    "if __name__ == '__main__':\n",
    "    unittest.main(argv=['', 'TestGANComponents'], exit=False)"
   ]
  }
 ],
 "metadata": {
  "celltoolbar": "Create Assignment",
  "kernelspec": {
   "display_name": "Python 3 (ipykernel)",
   "language": "python",
   "name": "python3"
  },
  "language_info": {
   "codemirror_mode": {
    "name": "ipython",
    "version": 3
   },
   "file_extension": ".py",
   "mimetype": "text/x-python",
   "name": "python",
   "nbconvert_exporter": "python",
   "pygments_lexer": "ipython3",
   "version": "3.11.5"
  }
 },
 "nbformat": 4,
 "nbformat_minor": 4
}
